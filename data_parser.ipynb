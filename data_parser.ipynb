{
 "cells": [
  {
   "cell_type": "code",
   "execution_count": 2,
   "metadata": {},
   "outputs": [],
   "source": [
    "from akashiwo_data_scrape import *\n",
    "from bs4 import BeautifulSoup"
   ]
  },
  {
   "cell_type": "code",
   "execution_count": 95,
   "metadata": {},
   "outputs": [],
   "source": [
    "# speacies id\n",
    "spicies_ids = [45, 3]\n",
    "spicies_names = [\"Diaton.csv\", \"shtonela.csv\"]\n",
    "\n",
    "for id, names in zip(spicies_ids, spicies_names):\n",
    "    pull_data(id, \"2011/5/01\", \"2023/10/11\", names)"
   ]
  },
  {
   "cell_type": "code",
   "execution_count": 96,
   "metadata": {},
   "outputs": [],
   "source": [
    "colum_names = ['lat', 'lng', 'speciesValueAM', 'speciesValuePM', \n",
    "               'saisuiValueAM', 'saisuiValuePM', 'speciesNameKana', \n",
    "               'maxvalue', 'speciesId', 'icon_size']\n",
    "\n",
    "for name in spicies_names:\n",
    "    remove_colum(colum_names, name)\n",
    "\n"
   ]
  },
  {
   "cell_type": "code",
   "execution_count": 3,
   "metadata": {},
   "outputs": [],
   "source": [
    "id_array = []\n",
    "date_array = []\n",
    "get_id_date(id_array, date_array, 'Diaton.csv')"
   ]
  }
 ],
 "metadata": {
  "kernelspec": {
   "display_name": "Python 3",
   "language": "python",
   "name": "python3"
  },
  "language_info": {
   "codemirror_mode": {
    "name": "ipython",
    "version": 3
   },
   "file_extension": ".py",
   "mimetype": "text/x-python",
   "name": "python",
   "nbconvert_exporter": "python",
   "pygments_lexer": "ipython3",
   "version": "3.10.11"
  },
  "orig_nbformat": 4
 },
 "nbformat": 4,
 "nbformat_minor": 2
}
