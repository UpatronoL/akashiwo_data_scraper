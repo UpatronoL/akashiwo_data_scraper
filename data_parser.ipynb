{
 "cells": [
  {
   "cell_type": "code",
   "execution_count": 2,
   "metadata": {},
   "outputs": [],
   "source": [
    "from akashiwo_data_scrape import *\n",
    "from bs4 import BeautifulSoup\n",
    "from tqdm import tqdm"
   ]
  },
  {
   "cell_type": "code",
   "execution_count": 6,
   "metadata": {},
   "outputs": [],
   "source": [
    "# speacies id\n",
    "spicies_ids = [45, 3]\n",
    "spicies_names = [\"Diaton.csv\", \"shtonela.csv\"]\n",
    "\n",
    "for id, names in zip(spicies_ids, spicies_names):\n",
    "    pull_data(id, \"2011/5/01\", \"2023/10/11\", names)"
   ]
  },
  {
   "cell_type": "code",
   "execution_count": 96,
   "metadata": {},
   "outputs": [],
   "source": [
    "colum_names = ['lat', 'lng', 'speciesValueAM', 'speciesValuePM', \n",
    "               'saisuiValueAM', 'saisuiValuePM', 'speciesNameKana', \n",
    "               'maxvalue', 'speciesId', 'icon_size']\n",
    "\n",
    "for name in spicies_names:\n",
    "    remove_colum(colum_names, name)"
   ]
  },
  {
   "cell_type": "code",
   "execution_count": 4,
   "metadata": {},
   "outputs": [],
   "source": [
    "data = pd.read_csv(\"shtonela.csv\")\n",
    "pointIds = data[\"pointId\"]\n",
    "gatherYMDs = data[\"gatherYMD\"]"
   ]
  },
  {
   "cell_type": "code",
   "execution_count": 11,
   "metadata": {},
   "outputs": [
    {
     "name": "stderr",
     "output_type": "stream",
     "text": [
      "scraping: 20requests [00:06,  2.96requests/s]\n"
     ]
    }
   ],
   "source": [
    "main_data = {}\n",
    "coordinate_data = {}\n",
    "headers_to_skip_main = [\"確定値／速報値\", \"事業・調査名\"]\n",
    "i = 0\n",
    "for pointId, gatherYMD in tqdm(zip(pointIds, gatherYMDs), desc=\"scraping\", unit=\"requests\"):\n",
    "    html_data = requests.get(f\"https://akashiwo.jp/private/akashiwoListInit.php?qpoint_id={str(pointId)}&qspecies_id=3&qgather_ymd_s=&qgather_ymd_e={str(gatherYMD)}\")\n",
    "    html_data.encoding = 'utf-8'\n",
    "    soup = BeautifulSoup(html_data.text, 'html.parser')\n",
    "    tables = soup.find_all('table')\n",
    "    times_to_duplicate = parse_main_table(tables[1], headers_to_skip_main, main_data)\n",
    "    parse_coordinate_table(tables[0], coordinate_data, times_to_duplicate)\n",
    "    if(i == 20): break\n",
    "    i += 1\n",
    "\n",
    "df = pd.DataFrame(main_data)\n",
    "df.to_csv(\"hehe.csv\", index=False)"
   ]
  },
  {
   "cell_type": "code",
   "execution_count": null,
   "metadata": {},
   "outputs": [],
   "source": [
    "merged_data = {**coordinate_data, **main_data}\n",
    "df = pd.DataFrame(merged_data)\n",
    "df.to_csv(\"hehe.csv\", index=False)"
   ]
  },
  {
   "cell_type": "code",
   "execution_count": 5,
   "metadata": {},
   "outputs": [
    {
     "data": {
      "text/plain": [
       "{'hhh': [1, 2, 3, 5, 6, 7]}"
      ]
     },
     "execution_count": 5,
     "metadata": {},
     "output_type": "execute_result"
    }
   ],
   "source": [
    "def fill(data):\n",
    "    if \"hhh\" in data:\n",
    "        data[\"hhh\"].extend([5, 6, 7])\n",
    "    else:\n",
    "        data[\"hhh\"] = [1, 2, 3]\n",
    "d = {}\n",
    "d[\"hhh\"] = [1, 2, 3]\n",
    "\n",
    "fill(d)\n",
    "\n",
    "d"
   ]
  },
  {
   "cell_type": "code",
   "execution_count": null,
   "metadata": {},
   "outputs": [],
   "source": []
  }
 ],
 "metadata": {
  "kernelspec": {
   "display_name": "Python 3",
   "language": "python",
   "name": "python3"
  },
  "language_info": {
   "codemirror_mode": {
    "name": "ipython",
    "version": 3
   },
   "file_extension": ".py",
   "mimetype": "text/x-python",
   "name": "python",
   "nbconvert_exporter": "python",
   "pygments_lexer": "ipython3",
   "version": "3.10.11"
  },
  "orig_nbformat": 4
 },
 "nbformat": 4,
 "nbformat_minor": 2
}
